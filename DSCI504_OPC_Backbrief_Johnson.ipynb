{
    "cells": [
        {
            "attachments": {},
            "cell_type": "markdown",
            "metadata": {
                "azdata_cell_guid": "a4759a28-f38a-4fd7-b13d-441a6f23f684"
            },
            "source": [
                "# DSCI 504: OPC Corporate Back brief \n",
                "\n",
                "## Outdoor Performance Center Data Science Team \n",
                "\n",
                "Ryan Johnson \n",
                "\n",
                "Mar. 9, 2025"
            ]
        },
        {
            "attachments": {},
            "cell_type": "markdown",
            "metadata": {
                "azdata_cell_guid": "5fa417ec-3dc2-4125-9764-1bc1f00fe56c"
            },
            "source": [
                "<span style=\"background-color: rgb(255, 255, 255); color: rgb(45, 59, 69); font-family: LatoWeb, &quot;Lato Extended&quot;, Lato, &quot;Helvetica Neue&quot;, Helvetica, Arial, sans-serif; font-size: 16px;\">2. Using the major headings in section 2 below, conduct several SQL queries to support your back brief. These queries should provide insight&nbsp; into the data and help answer the overarching question: Should OPC take Ord Cycles on in acquisition and include them in their portfolio. You should strive to answer the following three business problems in your work.</span>\n",
                "\n",
                "- <span style=\"font-size: 16px; background-color: rgb(255, 255, 255);\">A.&nbsp;</span> <span style=\"color: var(--vscode-foreground);\">Does OPC have adequate sales to support continued growth in the mountain bike segment?</span>\n",
                "\n",
                "- <span style=\"color: var(--vscode-foreground);\">B.&nbsp; Will the acquisition of Ord Cycles require OPC to increase its number of warehouses to meet demand?</span>\n",
                "\n",
                "- <span style=\"color: var(--vscode-foreground);\">C. Should Ord Cycles be acquired, what configurations of mountain bikes should OPC require Ord Cycles to build based on available data?</span>\n",
                "\n",
                "Your queries should encompass ALL principles made available to you this semester. You can use anything you learned via weekly lessons or the Data Camp tutorials in your work. You may not use queries already conducted in weekly assignments."
            ]
        },
        {
            "attachments": {},
            "cell_type": "markdown",
            "metadata": {
                "azdata_cell_guid": "1b13a9ea-0a17-45ab-850f-4e5848fdc800"
            },
            "source": [
                "## **2A**"
            ]
        },
        {
            "attachments": {},
            "cell_type": "markdown",
            "metadata": {
                "azdata_cell_guid": "b95d1f17-dd76-4a0b-a07a-a7c3396002a9"
            },
            "source": [
                "## **Yearly Total Sales and Orders of the Mountain Bike Segment**\n",
                "Sales trends"
            ]
        },
        {
            "cell_type": "code",
            "execution_count": 43,
            "metadata": {
                "azdata_cell_guid": "721ad929-9cbd-4a9d-add6-512ed2f9294b",
                "language": "sql"
            },
            "outputs": [
                {
                    "data": {
                        "text/html": [
                            "(20 row(s) affected)"
                        ]
                    },
                    "metadata": {},
                    "output_type": "display_data"
                },
                {
                    "data": {
                        "text/html": [
                            "Total execution time: 00:00:00.009"
                        ]
                    },
                    "metadata": {},
                    "output_type": "display_data"
                },
                {
                    "data": {
                        "application/vnd.dataresource+json": {
                            "data": [
                                {
                                    "total_num_orders": "150",
                                    "total_sales": "728573.98",
                                    "year_sales": "2000"
                                },
                                {
                                    "total_num_orders": "137",
                                    "total_sales": "696021.07",
                                    "year_sales": "2001"
                                },
                                {
                                    "total_num_orders": "123",
                                    "total_sales": "565160.48",
                                    "year_sales": "2002"
                                },
                                {
                                    "total_num_orders": "112",
                                    "total_sales": "523462.78",
                                    "year_sales": "2003"
                                },
                                {
                                    "total_num_orders": "119",
                                    "total_sales": "577862.23",
                                    "year_sales": "2004"
                                },
                                {
                                    "total_num_orders": "131",
                                    "total_sales": "635804.33",
                                    "year_sales": "2005"
                                },
                                {
                                    "total_num_orders": "154",
                                    "total_sales": "754774.44",
                                    "year_sales": "2006"
                                },
                                {
                                    "total_num_orders": "124",
                                    "total_sales": "598244.74",
                                    "year_sales": "2007"
                                },
                                {
                                    "total_num_orders": "122",
                                    "total_sales": "607583.88",
                                    "year_sales": "2008"
                                },
                                {
                                    "total_num_orders": "129",
                                    "total_sales": "651427.80",
                                    "year_sales": "2009"
                                },
                                {
                                    "total_num_orders": "138",
                                    "total_sales": "655375.09",
                                    "year_sales": "2010"
                                },
                                {
                                    "total_num_orders": "131",
                                    "total_sales": "630545.52",
                                    "year_sales": "2011"
                                },
                                {
                                    "total_num_orders": "126",
                                    "total_sales": "610428.02",
                                    "year_sales": "2012"
                                },
                                {
                                    "total_num_orders": "132",
                                    "total_sales": "637818.16",
                                    "year_sales": "2013"
                                },
                                {
                                    "total_num_orders": "113",
                                    "total_sales": "534454.30",
                                    "year_sales": "2014"
                                },
                                {
                                    "total_num_orders": "135",
                                    "total_sales": "652318.08",
                                    "year_sales": "2015"
                                },
                                {
                                    "total_num_orders": "133",
                                    "total_sales": "602895.41",
                                    "year_sales": "2016"
                                },
                                {
                                    "total_num_orders": "134",
                                    "total_sales": "641076.76",
                                    "year_sales": "2017"
                                },
                                {
                                    "total_num_orders": "135",
                                    "total_sales": "642704.33",
                                    "year_sales": "2018"
                                },
                                {
                                    "total_num_orders": "121",
                                    "total_sales": "558094.48",
                                    "year_sales": "2019"
                                }
                            ],
                            "schema": {
                                "fields": [
                                    {
                                        "name": "year_sales"
                                    },
                                    {
                                        "name": "total_sales"
                                    },
                                    {
                                        "name": "total_num_orders"
                                    }
                                ]
                            }
                        },
                        "text/html": [
                            "<table>\n",
                            "<tr><th>year_sales</th><th>total_sales</th><th>total_num_orders</th></tr>\n",
                            "<tr><td>2000</td><td>728573.98</td><td>150</td></tr>\n",
                            "<tr><td>2001</td><td>696021.07</td><td>137</td></tr>\n",
                            "<tr><td>2002</td><td>565160.48</td><td>123</td></tr>\n",
                            "<tr><td>2003</td><td>523462.78</td><td>112</td></tr>\n",
                            "<tr><td>2004</td><td>577862.23</td><td>119</td></tr>\n",
                            "<tr><td>2005</td><td>635804.33</td><td>131</td></tr>\n",
                            "<tr><td>2006</td><td>754774.44</td><td>154</td></tr>\n",
                            "<tr><td>2007</td><td>598244.74</td><td>124</td></tr>\n",
                            "<tr><td>2008</td><td>607583.88</td><td>122</td></tr>\n",
                            "<tr><td>2009</td><td>651427.80</td><td>129</td></tr>\n",
                            "<tr><td>2010</td><td>655375.09</td><td>138</td></tr>\n",
                            "<tr><td>2011</td><td>630545.52</td><td>131</td></tr>\n",
                            "<tr><td>2012</td><td>610428.02</td><td>126</td></tr>\n",
                            "<tr><td>2013</td><td>637818.16</td><td>132</td></tr>\n",
                            "<tr><td>2014</td><td>534454.30</td><td>113</td></tr>\n",
                            "<tr><td>2015</td><td>652318.08</td><td>135</td></tr>\n",
                            "<tr><td>2016</td><td>602895.41</td><td>133</td></tr>\n",
                            "<tr><td>2017</td><td>641076.76</td><td>134</td></tr>\n",
                            "<tr><td>2018</td><td>642704.33</td><td>135</td></tr>\n",
                            "<tr><td>2019</td><td>558094.48</td><td>121</td></tr>\n",
                            "</table>"
                        ]
                    },
                    "execution_count": 43,
                    "metadata": {},
                    "output_type": "execute_result"
                }
            ],
            "source": [
                "SELECT extract(year from o.ord_date) AS year_sales,\n",
                "       SUM(o.order_tot) AS total_sales, \n",
                "       COUNT(*) AS total_num_orders\n",
                "       --,p.prod_description\n",
                "FROM dsci_504.orders as o\n",
                "JOIN dsci_504.products as p ON o.prod_id = p.prod_id\n",
                "--WHERE p.prod_description LIKE '%Mountain Bike%'\n",
                "GROUP BY year_sales--, p.prod_description\n",
                "ORDER BY year_sales, total_sales DESC, total_num_orders DESC;"
            ]
        },
        {
            "attachments": {},
            "cell_type": "markdown",
            "metadata": {
                "azdata_cell_guid": "4477ef78-36ab-4aed-8d64-fb68860d3f5d"
            },
            "source": [
                "### **Yearly Total Sales of the Mountain Bike Segment**\n",
                "\n",
                "<span data-preserver-spaces=\"true\" style=\"background: transparent; margin-top: 0pt; margin-bottom: 0pt;\">The yearly sales trend is that mountain bikes are NOT growing.</span>\n",
                "\n",
                "- <span data-preserver-spaces=\"true\" style=\"background: transparent; margin-top: 0pt; margin-bottom: 0pt;\">The yearly sales for mountain bikes are stagnant; they are not growing and</span> <span data-preserver-spaces=\"true\" style=\"background: transparent; margin-top: 0pt; margin-bottom: 0pt;\">have been decreasing.</span>\n",
                "- <span data-preserver-spaces=\"true\" style=\"background: transparent; margin-top: 0pt; margin-bottom: 0pt;\">No continued sales growth in the mountain bikes</span>\n",
                "- <span data-preserver-spaces=\"true\" style=\"background: transparent; margin-top: 0pt; margin-bottom: 0pt;\">Looking at the bar chart, we can see how mountain bike sales are performing each year. The total sales for each year are not showing continued growth; they are stagnant and decreasing—no growth for mountain bikes.</span>\n",
                "- <span data-preserver-spaces=\"true\" style=\"background: transparent; margin-top: 0pt; margin-bottom: 0pt;\">There are some peaks, but overall, it doesn't show an increasing demand.</span>"
            ]
        },
        {
            "cell_type": "code",
            "execution_count": 39,
            "metadata": {
                "azdata_cell_guid": "dfacf233-a46e-451e-b833-0d243992a7f9",
                "language": "sql",
                "tags": []
            },
            "outputs": [
                {
                    "data": {
                        "text/html": [
                            "(20 row(s) affected)"
                        ]
                    },
                    "metadata": {},
                    "output_type": "display_data"
                },
                {
                    "data": {
                        "text/html": [
                            "Total execution time: 00:00:00.003"
                        ]
                    },
                    "metadata": {},
                    "output_type": "display_data"
                },
                {
                    "data": {
                        "application/vnd.dataresource+json": {
                            "data": [
                                {
                                    "total_sales": "728573.98",
                                    "year_sales": "2000"
                                },
                                {
                                    "total_sales": "696021.07",
                                    "year_sales": "2001"
                                },
                                {
                                    "total_sales": "565160.48",
                                    "year_sales": "2002"
                                },
                                {
                                    "total_sales": "523462.78",
                                    "year_sales": "2003"
                                },
                                {
                                    "total_sales": "577862.23",
                                    "year_sales": "2004"
                                },
                                {
                                    "total_sales": "635804.33",
                                    "year_sales": "2005"
                                },
                                {
                                    "total_sales": "754774.44",
                                    "year_sales": "2006"
                                },
                                {
                                    "total_sales": "598244.74",
                                    "year_sales": "2007"
                                },
                                {
                                    "total_sales": "607583.88",
                                    "year_sales": "2008"
                                },
                                {
                                    "total_sales": "651427.80",
                                    "year_sales": "2009"
                                },
                                {
                                    "total_sales": "655375.09",
                                    "year_sales": "2010"
                                },
                                {
                                    "total_sales": "630545.52",
                                    "year_sales": "2011"
                                },
                                {
                                    "total_sales": "610428.02",
                                    "year_sales": "2012"
                                },
                                {
                                    "total_sales": "637818.16",
                                    "year_sales": "2013"
                                },
                                {
                                    "total_sales": "534454.30",
                                    "year_sales": "2014"
                                },
                                {
                                    "total_sales": "652318.08",
                                    "year_sales": "2015"
                                },
                                {
                                    "total_sales": "602895.41",
                                    "year_sales": "2016"
                                },
                                {
                                    "total_sales": "641076.76",
                                    "year_sales": "2017"
                                },
                                {
                                    "total_sales": "642704.33",
                                    "year_sales": "2018"
                                },
                                {
                                    "total_sales": "558094.48",
                                    "year_sales": "2019"
                                }
                            ],
                            "schema": {
                                "fields": [
                                    {
                                        "name": "year_sales"
                                    },
                                    {
                                        "name": "total_sales"
                                    }
                                ]
                            }
                        },
                        "text/html": [
                            "<table>\n",
                            "<tr><th>year_sales</th><th>total_sales</th></tr>\n",
                            "<tr><td>2000</td><td>728573.98</td></tr>\n",
                            "<tr><td>2001</td><td>696021.07</td></tr>\n",
                            "<tr><td>2002</td><td>565160.48</td></tr>\n",
                            "<tr><td>2003</td><td>523462.78</td></tr>\n",
                            "<tr><td>2004</td><td>577862.23</td></tr>\n",
                            "<tr><td>2005</td><td>635804.33</td></tr>\n",
                            "<tr><td>2006</td><td>754774.44</td></tr>\n",
                            "<tr><td>2007</td><td>598244.74</td></tr>\n",
                            "<tr><td>2008</td><td>607583.88</td></tr>\n",
                            "<tr><td>2009</td><td>651427.80</td></tr>\n",
                            "<tr><td>2010</td><td>655375.09</td></tr>\n",
                            "<tr><td>2011</td><td>630545.52</td></tr>\n",
                            "<tr><td>2012</td><td>610428.02</td></tr>\n",
                            "<tr><td>2013</td><td>637818.16</td></tr>\n",
                            "<tr><td>2014</td><td>534454.30</td></tr>\n",
                            "<tr><td>2015</td><td>652318.08</td></tr>\n",
                            "<tr><td>2016</td><td>602895.41</td></tr>\n",
                            "<tr><td>2017</td><td>641076.76</td></tr>\n",
                            "<tr><td>2018</td><td>642704.33</td></tr>\n",
                            "<tr><td>2019</td><td>558094.48</td></tr>\n",
                            "</table>"
                        ]
                    },
                    "execution_count": 39,
                    "metadata": {
                        "azdata_chartOptions": {
                            "columnsAsLabels": true,
                            "dataDirection": "horizontal",
                            "labelFirstColumn": true,
                            "legendPosition": "top",
                            "type": "bar",
                            "xAxisLabel": "Total Sales per Year"
                        }
                    },
                    "output_type": "execute_result"
                }
            ],
            "source": [
                "SELECT extract(year from o.ord_date) AS year_sales,\n",
                "       SUM(o.order_tot) AS total_sales\n",
                "FROM dsci_504.orders as o\n",
                "JOIN dsci_504.products as p ON o.prod_id = p.prod_id\n",
                "--WHERE p.prod_description LIKE '%Mountain Bike%'\n",
                "GROUP BY year_sales\n",
                "ORDER BY year_sales;--, total_sales DESC;\n",
                "\n",
                "-- Total Sales per Year"
            ]
        },
        {
            "attachments": {},
            "cell_type": "markdown",
            "metadata": {
                "azdata_cell_guid": "0e1e50a4-c4c8-4141-9e89-00e3b4268d29"
            },
            "source": [
                "### **Yearly Number of Total Orders of the Mountain Bike Segment**\n",
                "Similar to the year's total sales, there is no continued growth. The bar chart shows that the mountain bike orders are decreasing with slight growth; otherwise, they are decreasing overall, showing no order growth for mountain bikes over the years. The results for the orders of mountain bikes are stagnant."
            ]
        },
        {
            "cell_type": "code",
            "execution_count": 41,
            "metadata": {
                "azdata_cell_guid": "44ee60f1-b011-45c9-bce2-957b0a3da28d",
                "language": "sql"
            },
            "outputs": [
                {
                    "data": {
                        "text/html": [
                            "(20 row(s) affected)"
                        ]
                    },
                    "metadata": {},
                    "output_type": "display_data"
                },
                {
                    "data": {
                        "text/html": [
                            "Total execution time: 00:00:00.011"
                        ]
                    },
                    "metadata": {},
                    "output_type": "display_data"
                },
                {
                    "data": {
                        "application/vnd.dataresource+json": {
                            "data": [
                                {
                                    "total_num_orders": "150",
                                    "year_sales": "2000"
                                },
                                {
                                    "total_num_orders": "137",
                                    "year_sales": "2001"
                                },
                                {
                                    "total_num_orders": "123",
                                    "year_sales": "2002"
                                },
                                {
                                    "total_num_orders": "112",
                                    "year_sales": "2003"
                                },
                                {
                                    "total_num_orders": "119",
                                    "year_sales": "2004"
                                },
                                {
                                    "total_num_orders": "131",
                                    "year_sales": "2005"
                                },
                                {
                                    "total_num_orders": "154",
                                    "year_sales": "2006"
                                },
                                {
                                    "total_num_orders": "124",
                                    "year_sales": "2007"
                                },
                                {
                                    "total_num_orders": "122",
                                    "year_sales": "2008"
                                },
                                {
                                    "total_num_orders": "129",
                                    "year_sales": "2009"
                                },
                                {
                                    "total_num_orders": "138",
                                    "year_sales": "2010"
                                },
                                {
                                    "total_num_orders": "131",
                                    "year_sales": "2011"
                                },
                                {
                                    "total_num_orders": "126",
                                    "year_sales": "2012"
                                },
                                {
                                    "total_num_orders": "132",
                                    "year_sales": "2013"
                                },
                                {
                                    "total_num_orders": "113",
                                    "year_sales": "2014"
                                },
                                {
                                    "total_num_orders": "135",
                                    "year_sales": "2015"
                                },
                                {
                                    "total_num_orders": "133",
                                    "year_sales": "2016"
                                },
                                {
                                    "total_num_orders": "134",
                                    "year_sales": "2017"
                                },
                                {
                                    "total_num_orders": "135",
                                    "year_sales": "2018"
                                },
                                {
                                    "total_num_orders": "121",
                                    "year_sales": "2019"
                                }
                            ],
                            "schema": {
                                "fields": [
                                    {
                                        "name": "year_sales"
                                    },
                                    {
                                        "name": "total_num_orders"
                                    }
                                ]
                            }
                        },
                        "text/html": [
                            "<table>\n",
                            "<tr><th>year_sales</th><th>total_num_orders</th></tr>\n",
                            "<tr><td>2000</td><td>150</td></tr>\n",
                            "<tr><td>2001</td><td>137</td></tr>\n",
                            "<tr><td>2002</td><td>123</td></tr>\n",
                            "<tr><td>2003</td><td>112</td></tr>\n",
                            "<tr><td>2004</td><td>119</td></tr>\n",
                            "<tr><td>2005</td><td>131</td></tr>\n",
                            "<tr><td>2006</td><td>154</td></tr>\n",
                            "<tr><td>2007</td><td>124</td></tr>\n",
                            "<tr><td>2008</td><td>122</td></tr>\n",
                            "<tr><td>2009</td><td>129</td></tr>\n",
                            "<tr><td>2010</td><td>138</td></tr>\n",
                            "<tr><td>2011</td><td>131</td></tr>\n",
                            "<tr><td>2012</td><td>126</td></tr>\n",
                            "<tr><td>2013</td><td>132</td></tr>\n",
                            "<tr><td>2014</td><td>113</td></tr>\n",
                            "<tr><td>2015</td><td>135</td></tr>\n",
                            "<tr><td>2016</td><td>133</td></tr>\n",
                            "<tr><td>2017</td><td>134</td></tr>\n",
                            "<tr><td>2018</td><td>135</td></tr>\n",
                            "<tr><td>2019</td><td>121</td></tr>\n",
                            "</table>"
                        ]
                    },
                    "execution_count": 41,
                    "metadata": {
                        "azdata_chartOptions": {
                            "columnsAsLabels": true,
                            "dataDirection": "horizontal",
                            "labelFirstColumn": true,
                            "legendPosition": "top",
                            "type": "bar",
                            "xAxisLabel": "Total Number of Orders per Year"
                        }
                    },
                    "output_type": "execute_result"
                }
            ],
            "source": [
                "SELECT extract(year from o.ord_date) AS year_sales,\n",
                "       COUNT(*) AS total_num_orders\n",
                "FROM dsci_504.orders as o\n",
                "JOIN dsci_504.products as p ON o.prod_id = p.prod_id\n",
                "--WHERE p.prod_description LIKE '%Mountain Bike%'\n",
                "GROUP BY year_sales\n",
                "ORDER BY year_sales;--, total_sales DESC;\n",
                "\n",
                "-- Total Number of Orders per Year"
            ]
        },
        {
            "attachments": {},
            "cell_type": "markdown",
            "metadata": {
                "azdata_cell_guid": "b25f9bda-7aa2-4164-a1bc-de03b4f116a2"
            },
            "source": [
                "## **Which of the Mountain Bike Products (prod\\_name) were the Best Selling?**\n",
                "\n",
                "## \n",
                "\n",
                "<span data-preserver-spaces=\"true\" style=\"background: transparent; margin-top: 0pt; margin-bottom: 0pt;\">Which products should OPC focus on if they buy Ord Cyles?</span>\n",
                "\n",
                "<span data-preserver-spaces=\"true\" style=\"background: transparent; margin-top: 0pt; margin-bottom: 0pt;\">The product's name</span>**, Rail**<span data-preserver-spaces=\"true\" style=\"background: transparent; margin-top: 0pt; margin-bottom: 0pt;\">, has the best/</span><span data-preserver-spaces=\"true\" style=\"background: transparent; margin-top: 0pt; margin-bottom: 0pt;\">largest</span> <span data-preserver-spaces=\"true\" style=\"background: transparent; margin-top: 0pt; margin-bottom: 0pt;\"> sales at&nbsp;</span> **348444.86**<span data-preserver-spaces=\"true\" style=\"background: transparent; margin-top: 0pt; margin-bottom: 0pt;\">.</span>\n",
                "\n",
                "<span data-preserver-spaces=\"true\" style=\"background: transparent; margin-top: 0pt; margin-bottom: 0pt;\">There are 5 product names with total sales greater than or equal to 300,000. In order the products are:</span>\n",
                "\n",
                "1. <span data-preserver-spaces=\"true\" style=\"background: transparent; margin-top: 0pt; margin-bottom: 0pt;\">Rail</span>\n",
                "2. <span data-preserver-spaces=\"true\" style=\"background: transparent; margin-top: 0pt; margin-bottom: 0pt;\">SB160</span>\n",
                "3. <span data-preserver-spaces=\"true\" style=\"background: transparent; margin-top: 0pt; margin-bottom: 0pt;\">Occam</span>\n",
                "4. <span data-preserver-spaces=\"true\" style=\"background: transparent; margin-top: 0pt; margin-bottom: 0pt;\">Altitude</span>\n",
                "5. <span data-preserver-spaces=\"true\" style=\"background: transparent; margin-top: 0pt; margin-bottom: 0pt;\">SB150</span>\n",
                "\n",
                "<span data-preserver-spaces=\"true\" style=\"background: transparent; margin-top: 0pt; margin-bottom: 0pt;\">The results and the bar chart show that some products are more in demand than others. If OPC buys Ord Cyles, it should focus on the products that sell the most. The bar chart shows the declining rate of sales from Rail to Chameleon. The results show that people buy a small number of Chameleon bikes.</span>\n",
                "\n",
                "<span data-preserver-spaces=\"true\" style=\"background: transparent; margin-top: 0pt; margin-bottom: 0pt;\">Declining trend in mountain bike sales</span>"
            ]
        },
        {
            "cell_type": "code",
            "execution_count": 53,
            "metadata": {
                "azdata_cell_guid": "8af9a6bb-91db-4aae-b25b-22aa51bff7ba",
                "language": "sql"
            },
            "outputs": [
                {
                    "data": {
                        "text/html": [
                            "(68 row(s) affected)"
                        ]
                    },
                    "metadata": {},
                    "output_type": "display_data"
                },
                {
                    "data": {
                        "text/html": [
                            "Total execution time: 00:00:00.003"
                        ]
                    },
                    "metadata": {},
                    "output_type": "display_data"
                },
                {
                    "data": {
                        "application/vnd.dataresource+json": {
                            "data": [
                                {
                                    "prod_name": "Rail",
                                    "total_sales": "348444.86"
                                },
                                {
                                    "prod_name": "SB160",
                                    "total_sales": "324004.05"
                                },
                                {
                                    "prod_name": "Occam",
                                    "total_sales": "319280.00"
                                },
                                {
                                    "prod_name": "Altitude",
                                    "total_sales": "313788.49"
                                },
                                {
                                    "prod_name": "SB150",
                                    "total_sales": "306540"
                                },
                                {
                                    "prod_name": "Gnarvana",
                                    "total_sales": "280900.42"
                                },
                                {
                                    "prod_name": "Wreckoning",
                                    "total_sales": "278751.80"
                                },
                                {
                                    "prod_name": "E-Series",
                                    "total_sales": "269617.46"
                                },
                                {
                                    "prod_name": "Firebird",
                                    "total_sales": "259038.39"
                                },
                                {
                                    "prod_name": "Mojo",
                                    "total_sales": "255649.16"
                                },
                                {
                                    "prod_name": "Stereo",
                                    "total_sales": "235657.41"
                                },
                                {
                                    "prod_name": "Meta Am",
                                    "total_sales": "235024.36"
                                },
                                {
                                    "prod_name": "SuperFoxy",
                                    "total_sales": "230741.87"
                                },
                                {
                                    "prod_name": "Sight",
                                    "total_sales": "226544.40"
                                },
                                {
                                    "prod_name": "Following",
                                    "total_sales": "225652.19"
                                },
                                {
                                    "prod_name": "Trail Pistol",
                                    "total_sales": "219938.50"
                                },
                                {
                                    "prod_name": "X Trance",
                                    "total_sales": "212526.77"
                                },
                                {
                                    "prod_name": "Megatower",
                                    "total_sales": "211932.95"
                                },
                                {
                                    "prod_name": "Clash",
                                    "total_sales": "208997.77"
                                },
                                {
                                    "prod_name": "Hei Hei",
                                    "total_sales": "208890.22"
                                },
                                {
                                    "prod_name": "Shredd Dog",
                                    "total_sales": "208804.85"
                                },
                                {
                                    "prod_name": "Megatrail",
                                    "total_sales": "207981.74"
                                },
                                {
                                    "prod_name": "Onset",
                                    "total_sales": "199980.00"
                                },
                                {
                                    "prod_name": "Insurgent",
                                    "total_sales": "199298.94"
                                },
                                {
                                    "prod_name": "SB115",
                                    "total_sales": "197773.66"
                                },
                                {
                                    "prod_name": "Tracer",
                                    "total_sales": "196193.77"
                                },
                                {
                                    "prod_name": "Stumpjumper",
                                    "total_sales": "194885.09"
                                },
                                {
                                    "prod_name": "Enduro",
                                    "total_sales": "193599.34"
                                },
                                {
                                    "prod_name": "Ripley",
                                    "total_sales": "192953.52"
                                },
                                {
                                    "prod_name": "Instinct",
                                    "total_sales": "192800.82"
                                },
                                {
                                    "prod_name": "SB140",
                                    "total_sales": "188543.5"
                                },
                                {
                                    "prod_name": "AMD",
                                    "total_sales": "187747.24"
                                },
                                {
                                    "prod_name": "Haste",
                                    "total_sales": "180871.86"
                                },
                                {
                                    "prod_name": "Mega",
                                    "total_sales": "179285.05"
                                },
                                {
                                    "prod_name": "Jekyll",
                                    "total_sales": "178030.41"
                                },
                                {
                                    "prod_name": "Hightower",
                                    "total_sales": "177261.72"
                                },
                                {
                                    "prod_name": "Reactor",
                                    "total_sales": "177031.42"
                                },
                                {
                                    "prod_name": "Foxy",
                                    "total_sales": "175908.75"
                                },
                                {
                                    "prod_name": "Process 134",
                                    "total_sales": "174591.74"
                                },
                                {
                                    "prod_name": "Element",
                                    "total_sales": "172432.23"
                                },
                                {
                                    "prod_name": "Optic",
                                    "total_sales": "169617.95"
                                },
                                {
                                    "prod_name": "SB130",
                                    "total_sales": "167994.75"
                                },
                                {
                                    "prod_name": "Rip9",
                                    "total_sales": "161450.3"
                                },
                                {
                                    "prod_name": "The Smash",
                                    "total_sales": "158426.09"
                                },
                                {
                                    "prod_name": "Ripmo",
                                    "total_sales": "155615.77"
                                },
                                {
                                    "prod_name": "RKT9",
                                    "total_sales": "155181.6"
                                },
                                {
                                    "prod_name": "G-Series",
                                    "total_sales": "153678.99"
                                },
                                {
                                    "prod_name": "Habit",
                                    "total_sales": "146300.44"
                                },
                                {
                                    "prod_name": "OIZ",
                                    "total_sales": "142216.55"
                                },
                                {
                                    "prod_name": "Troy",
                                    "total_sales": "134170.08"
                                },
                                {
                                    "prod_name": "Jet9",
                                    "total_sales": "132057.13"
                                },
                                {
                                    "prod_name": "Scalpel",
                                    "total_sales": "131881.05"
                                },
                                {
                                    "prod_name": "Define",
                                    "total_sales": "130694.83"
                                },
                                {
                                    "prod_name": "Primer",
                                    "total_sales": "127086.05"
                                },
                                {
                                    "prod_name": "T-Series",
                                    "total_sales": "124997.62"
                                },
                                {
                                    "prod_name": "Sensor",
                                    "total_sales": "124729.08"
                                },
                                {
                                    "prod_name": "SB100",
                                    "total_sales": "123426.42"
                                },
                                {
                                    "prod_name": "Process 153",
                                    "total_sales": "118982.00"
                                },
                                {
                                    "prod_name": "Trance",
                                    "total_sales": "116946.38"
                                },
                                {
                                    "prod_name": "Force",
                                    "total_sales": "116708.40"
                                },
                                {
                                    "prod_name": "DV9",
                                    "total_sales": "113877.15"
                                },
                                {
                                    "prod_name": "Thunderbolt",
                                    "total_sales": "103154.90"
                                },
                                {
                                    "prod_name": "Snabb",
                                    "total_sales": "101909.64"
                                },
                                {
                                    "prod_name": "Sniper",
                                    "total_sales": "100955.76"
                                },
                                {
                                    "prod_name": "Scout",
                                    "total_sales": "99342.09"
                                },
                                {
                                    "prod_name": "Tallboy",
                                    "total_sales": "92438.37"
                                },
                                {
                                    "prod_name": "Air9",
                                    "total_sales": "81477.28"
                                },
                                {
                                    "prod_name": "Chameleon",
                                    "total_sales": "71412.49"
                                }
                            ],
                            "schema": {
                                "fields": [
                                    {
                                        "name": "prod_name"
                                    },
                                    {
                                        "name": "total_sales"
                                    }
                                ]
                            }
                        },
                        "text/html": [
                            "<table>\n",
                            "<tr><th>prod_name</th><th>total_sales</th></tr>\n",
                            "<tr><td>Rail</td><td>348444.86</td></tr>\n",
                            "<tr><td>SB160</td><td>324004.05</td></tr>\n",
                            "<tr><td>Occam</td><td>319280.00</td></tr>\n",
                            "<tr><td>Altitude</td><td>313788.49</td></tr>\n",
                            "<tr><td>SB150</td><td>306540</td></tr>\n",
                            "<tr><td>Gnarvana</td><td>280900.42</td></tr>\n",
                            "<tr><td>Wreckoning</td><td>278751.80</td></tr>\n",
                            "<tr><td>E-Series</td><td>269617.46</td></tr>\n",
                            "<tr><td>Firebird</td><td>259038.39</td></tr>\n",
                            "<tr><td>Mojo</td><td>255649.16</td></tr>\n",
                            "<tr><td>Stereo</td><td>235657.41</td></tr>\n",
                            "<tr><td>Meta Am</td><td>235024.36</td></tr>\n",
                            "<tr><td>SuperFoxy</td><td>230741.87</td></tr>\n",
                            "<tr><td>Sight</td><td>226544.40</td></tr>\n",
                            "<tr><td>Following</td><td>225652.19</td></tr>\n",
                            "<tr><td>Trail Pistol</td><td>219938.50</td></tr>\n",
                            "<tr><td>X Trance</td><td>212526.77</td></tr>\n",
                            "<tr><td>Megatower</td><td>211932.95</td></tr>\n",
                            "<tr><td>Clash</td><td>208997.77</td></tr>\n",
                            "<tr><td>Hei Hei</td><td>208890.22</td></tr>\n",
                            "<tr><td>Shredd Dog</td><td>208804.85</td></tr>\n",
                            "<tr><td>Megatrail</td><td>207981.74</td></tr>\n",
                            "<tr><td>Onset</td><td>199980.00</td></tr>\n",
                            "<tr><td>Insurgent</td><td>199298.94</td></tr>\n",
                            "<tr><td>SB115</td><td>197773.66</td></tr>\n",
                            "<tr><td>Tracer</td><td>196193.77</td></tr>\n",
                            "<tr><td>Stumpjumper</td><td>194885.09</td></tr>\n",
                            "<tr><td>Enduro</td><td>193599.34</td></tr>\n",
                            "<tr><td>Ripley</td><td>192953.52</td></tr>\n",
                            "<tr><td>Instinct</td><td>192800.82</td></tr>\n",
                            "<tr><td>SB140</td><td>188543.5</td></tr>\n",
                            "<tr><td>AMD</td><td>187747.24</td></tr>\n",
                            "<tr><td>Haste</td><td>180871.86</td></tr>\n",
                            "<tr><td>Mega</td><td>179285.05</td></tr>\n",
                            "<tr><td>Jekyll</td><td>178030.41</td></tr>\n",
                            "<tr><td>Hightower</td><td>177261.72</td></tr>\n",
                            "<tr><td>Reactor</td><td>177031.42</td></tr>\n",
                            "<tr><td>Foxy</td><td>175908.75</td></tr>\n",
                            "<tr><td>Process 134</td><td>174591.74</td></tr>\n",
                            "<tr><td>Element</td><td>172432.23</td></tr>\n",
                            "<tr><td>Optic</td><td>169617.95</td></tr>\n",
                            "<tr><td>SB130</td><td>167994.75</td></tr>\n",
                            "<tr><td>Rip9</td><td>161450.3</td></tr>\n",
                            "<tr><td>The Smash</td><td>158426.09</td></tr>\n",
                            "<tr><td>Ripmo</td><td>155615.77</td></tr>\n",
                            "<tr><td>RKT9</td><td>155181.6</td></tr>\n",
                            "<tr><td>G-Series</td><td>153678.99</td></tr>\n",
                            "<tr><td>Habit</td><td>146300.44</td></tr>\n",
                            "<tr><td>OIZ</td><td>142216.55</td></tr>\n",
                            "<tr><td>Troy</td><td>134170.08</td></tr>\n",
                            "<tr><td>Jet9</td><td>132057.13</td></tr>\n",
                            "<tr><td>Scalpel</td><td>131881.05</td></tr>\n",
                            "<tr><td>Define</td><td>130694.83</td></tr>\n",
                            "<tr><td>Primer</td><td>127086.05</td></tr>\n",
                            "<tr><td>T-Series</td><td>124997.62</td></tr>\n",
                            "<tr><td>Sensor</td><td>124729.08</td></tr>\n",
                            "<tr><td>SB100</td><td>123426.42</td></tr>\n",
                            "<tr><td>Process 153</td><td>118982.00</td></tr>\n",
                            "<tr><td>Trance</td><td>116946.38</td></tr>\n",
                            "<tr><td>Force</td><td>116708.40</td></tr>\n",
                            "<tr><td>DV9</td><td>113877.15</td></tr>\n",
                            "<tr><td>Thunderbolt</td><td>103154.90</td></tr>\n",
                            "<tr><td>Snabb</td><td>101909.64</td></tr>\n",
                            "<tr><td>Sniper</td><td>100955.76</td></tr>\n",
                            "<tr><td>Scout</td><td>99342.09</td></tr>\n",
                            "<tr><td>Tallboy</td><td>92438.37</td></tr>\n",
                            "<tr><td>Air9</td><td>81477.28</td></tr>\n",
                            "<tr><td>Chameleon</td><td>71412.49</td></tr>\n",
                            "</table>"
                        ]
                    },
                    "execution_count": 53,
                    "metadata": {
                        "azdata_chartOptions": {
                            "columnsAsLabels": true,
                            "dataDirection": "horizontal",
                            "labelFirstColumn": true,
                            "legendPosition": "top",
                            "type": "bar"
                        }
                    },
                    "output_type": "execute_result"
                }
            ],
            "source": [
                "SELECT p.prod_name,\n",
                "       SUM(o.order_tot) AS total_sales\n",
                "      -- ,COUNT(*) AS total_num_orders\n",
                "FROM dsci_504.orders as o\n",
                "JOIN dsci_504.products as p ON o.prod_id = p.prod_id\n",
                "GROUP BY p.prod_name\n",
                "ORDER BY total_sales DESC;"
            ]
        },
        {
            "attachments": {},
            "cell_type": "markdown",
            "metadata": {
                "azdata_cell_guid": "b01e92a3-72f5-4b0b-bcf5-1a8755d1da32"
            },
            "source": [
                "### **The Customers buying the Mountain Bikes (which customers are making up the sales for the mountain bikes)**\n",
                "\n",
                "<span data-preserver-spaces=\"true\" style=\"background: transparent; margin-top: 0pt; margin-bottom: 0pt;\">Who buys the most?</span>\n",
                "\n",
                "<span data-preserver-spaces=\"true\" style=\"background: transparent; margin-top: 0pt; margin-bottom: 0pt;\">The results show that customer ID 1728 orders the most out of all the other customers. Customer ID 1728 has spent 10358.34 on mountain bikes and has ordered 2. Most of the other customers only ordered 1 product; only two customers bought more than 1 product. (2 products instead of 1)</span>\n",
                "\n",
                "<span data-preserver-spaces=\"true\" style=\"background: transparent; margin-top: 0pt; margin-bottom: 0pt;\">There are&nbsp;</span> **limited repeat purchases**<span data-preserver-spaces=\"true\" style=\"background: transparent; margin-top: 0pt; margin-bottom: 0pt;\">, suggesting there is not a strong business repeat, which is a challenge for long-term growth.&nbsp;</span>     \n",
                "\n",
                "<span data-preserver-spaces=\"true\" style=\"background: transparent; margin-top: 0pt; margin-bottom: 0pt;\">The sales per order are strong, but </span> <span data-preserver-spaces=\"true\" style=\"background: transparent; margin-top: 0pt; margin-bottom: 0pt;\">limited</span> <span data-preserver-spaces=\"true\" style=\"background: transparent; margin-top: 0pt; margin-bottom: 0pt;\">repeat buyers.&nbsp; To ensure continued growth, OPC needs to focus on customer retention and market expansion to increase growth.</span>"
            ]
        },
        {
            "cell_type": "code",
            "execution_count": 107,
            "metadata": {
                "azdata_cell_guid": "b95b82a3-a2a9-4a68-b6f1-5fe283f95a20",
                "language": "sql"
            },
            "outputs": [
                {
                    "data": {
                        "text/html": [
                            "(10 row(s) affected)"
                        ]
                    },
                    "metadata": {},
                    "output_type": "display_data"
                },
                {
                    "data": {
                        "text/html": [
                            "Total execution time: 00:00:00.024"
                        ]
                    },
                    "metadata": {},
                    "output_type": "display_data"
                },
                {
                    "data": {
                        "application/vnd.dataresource+json": {
                            "data": [
                                {
                                    "cus_id": "1728",
                                    "total_num_orders": "2",
                                    "total_spent": "10358.34"
                                },
                                {
                                    "cus_id": "92",
                                    "total_num_orders": "1",
                                    "total_spent": "8580"
                                },
                                {
                                    "cus_id": "1967",
                                    "total_num_orders": "1",
                                    "total_spent": "8580"
                                },
                                {
                                    "cus_id": "852",
                                    "total_num_orders": "1",
                                    "total_spent": "8520"
                                },
                                {
                                    "cus_id": "1923",
                                    "total_num_orders": "1",
                                    "total_spent": "8520"
                                },
                                {
                                    "cus_id": "2246",
                                    "total_num_orders": "1",
                                    "total_spent": "8480"
                                },
                                {
                                    "cus_id": "272",
                                    "total_num_orders": "1",
                                    "total_spent": "8480"
                                },
                                {
                                    "cus_id": "440",
                                    "total_num_orders": "1",
                                    "total_spent": "8480"
                                },
                                {
                                    "cus_id": "1498",
                                    "total_num_orders": "1",
                                    "total_spent": "8480"
                                },
                                {
                                    "cus_id": "1410",
                                    "total_num_orders": "1",
                                    "total_spent": "8480"
                                }
                            ],
                            "schema": {
                                "fields": [
                                    {
                                        "name": "cus_id"
                                    },
                                    {
                                        "name": "total_num_orders"
                                    },
                                    {
                                        "name": "total_spent"
                                    }
                                ]
                            }
                        },
                        "text/html": [
                            "<table>\n",
                            "<tr><th>cus_id</th><th>total_num_orders</th><th>total_spent</th></tr>\n",
                            "<tr><td>1728</td><td>2</td><td>10358.34</td></tr>\n",
                            "<tr><td>92</td><td>1</td><td>8580</td></tr>\n",
                            "<tr><td>1967</td><td>1</td><td>8580</td></tr>\n",
                            "<tr><td>852</td><td>1</td><td>8520</td></tr>\n",
                            "<tr><td>1923</td><td>1</td><td>8520</td></tr>\n",
                            "<tr><td>2246</td><td>1</td><td>8480</td></tr>\n",
                            "<tr><td>272</td><td>1</td><td>8480</td></tr>\n",
                            "<tr><td>440</td><td>1</td><td>8480</td></tr>\n",
                            "<tr><td>1498</td><td>1</td><td>8480</td></tr>\n",
                            "<tr><td>1410</td><td>1</td><td>8480</td></tr>\n",
                            "</table>"
                        ]
                    },
                    "execution_count": 107,
                    "metadata": {},
                    "output_type": "execute_result"
                }
            ],
            "source": [
                "SELECT c.cus_id, \n",
                "       COUNT(*) AS total_num_orders, \n",
                "       SUM(o.order_tot) AS total_spent\n",
                "FROM dsci_504.orders AS o\n",
                "JOIN dsci_504.products AS p ON o.prod_id = p.prod_id\n",
                "JOIN dsci_504.customers as c ON o.cus_id = c.cus_id\n",
                "GROUP BY c.cus_id\n",
                "ORDER BY total_spent DESC --total_num_orders DESC --;\n",
                "LIMIT 10;"
            ]
        },
        {
            "attachments": {},
            "cell_type": "markdown",
            "metadata": {
                "azdata_cell_guid": "7f81623c-4ce4-40d2-bb0e-bcd9ed2536a7"
            },
            "source": [
                "### **Sales by State**\n",
                "\n",
                "State sales (Where should OPC expand to?)\n",
                "\n",
                "Which states sell the most mountain bikes?\n",
                "\n",
                "The state of Utah (UT) has the most sales, at 501628.64.\n",
                "\n",
                "The states IA, AL, CA, TN, NC, and FL have the lowest sales, which means there is an untapped potential for these areas. OPC needs to increase sales in each of the states with low sales. OPC needs strategies to target these states for future growth."
            ]
        },
        {
            "cell_type": "code",
            "execution_count": 134,
            "metadata": {
                "azdata_cell_guid": "fc1174a8-7f00-4c21-9b86-ef85bf1efbed",
                "language": "sql"
            },
            "outputs": [
                {
                    "data": {
                        "text/html": [
                            "(30 row(s) affected)"
                        ]
                    },
                    "metadata": {},
                    "output_type": "display_data"
                },
                {
                    "data": {
                        "text/html": [
                            "Total execution time: 00:00:00.006"
                        ]
                    },
                    "metadata": {},
                    "output_type": "display_data"
                },
                {
                    "data": {
                        "application/vnd.dataresource+json": {
                            "data": [
                                {
                                    "state": "IA",
                                    "total_sales": "354991.17"
                                },
                                {
                                    "state": "AL",
                                    "total_sales": "357233.11"
                                },
                                {
                                    "state": "CA",
                                    "total_sales": "358063.48"
                                },
                                {
                                    "state": "TN",
                                    "total_sales": "359225.40"
                                },
                                {
                                    "state": "NC",
                                    "total_sales": "371419.63"
                                },
                                {
                                    "state": "FL",
                                    "total_sales": "376232.81"
                                },
                                {
                                    "state": "AK",
                                    "total_sales": "383925.54"
                                },
                                {
                                    "state": "MN",
                                    "total_sales": "393329.09"
                                },
                                {
                                    "state": "IN",
                                    "total_sales": "395199.12"
                                },
                                {
                                    "state": "CO",
                                    "total_sales": "396104.52"
                                },
                                {
                                    "state": "WY",
                                    "total_sales": "399693.67"
                                },
                                {
                                    "state": "GA",
                                    "total_sales": "400039.56"
                                },
                                {
                                    "state": "NE",
                                    "total_sales": "403801.86"
                                },
                                {
                                    "state": "VA",
                                    "total_sales": "411617.14"
                                },
                                {
                                    "state": "PA",
                                    "total_sales": "413387.73"
                                },
                                {
                                    "state": "CT",
                                    "total_sales": "415228.10"
                                },
                                {
                                    "state": "OR",
                                    "total_sales": "416118.93"
                                },
                                {
                                    "state": "HI",
                                    "total_sales": "430088.30"
                                },
                                {
                                    "state": "KS",
                                    "total_sales": "430319.76"
                                },
                                {
                                    "state": "WV",
                                    "total_sales": "436695.57"
                                },
                                {
                                    "state": "DE",
                                    "total_sales": "438521.79"
                                },
                                {
                                    "state": "RI",
                                    "total_sales": "439401.58"
                                },
                                {
                                    "state": "LA",
                                    "total_sales": "442995.02"
                                },
                                {
                                    "state": "KY",
                                    "total_sales": "452586.28"
                                },
                                {
                                    "state": "OH",
                                    "total_sales": "456179.36"
                                },
                                {
                                    "state": "WA",
                                    "total_sales": "458163.23"
                                },
                                {
                                    "state": "AZ",
                                    "total_sales": "462217.11"
                                },
                                {
                                    "state": "SC",
                                    "total_sales": "472147.41"
                                },
                                {
                                    "state": "ME",
                                    "total_sales": "478070.97"
                                },
                                {
                                    "state": "UT",
                                    "total_sales": "501628.64"
                                }
                            ],
                            "schema": {
                                "fields": [
                                    {
                                        "name": "state"
                                    },
                                    {
                                        "name": "total_sales"
                                    }
                                ]
                            }
                        },
                        "text/html": [
                            "<table>\n",
                            "<tr><th>state</th><th>total_sales</th></tr>\n",
                            "<tr><td>IA</td><td>354991.17</td></tr>\n",
                            "<tr><td>AL</td><td>357233.11</td></tr>\n",
                            "<tr><td>CA</td><td>358063.48</td></tr>\n",
                            "<tr><td>TN</td><td>359225.40</td></tr>\n",
                            "<tr><td>NC</td><td>371419.63</td></tr>\n",
                            "<tr><td>FL</td><td>376232.81</td></tr>\n",
                            "<tr><td>AK</td><td>383925.54</td></tr>\n",
                            "<tr><td>MN</td><td>393329.09</td></tr>\n",
                            "<tr><td>IN</td><td>395199.12</td></tr>\n",
                            "<tr><td>CO</td><td>396104.52</td></tr>\n",
                            "<tr><td>WY</td><td>399693.67</td></tr>\n",
                            "<tr><td>GA</td><td>400039.56</td></tr>\n",
                            "<tr><td>NE</td><td>403801.86</td></tr>\n",
                            "<tr><td>VA</td><td>411617.14</td></tr>\n",
                            "<tr><td>PA</td><td>413387.73</td></tr>\n",
                            "<tr><td>CT</td><td>415228.10</td></tr>\n",
                            "<tr><td>OR</td><td>416118.93</td></tr>\n",
                            "<tr><td>HI</td><td>430088.30</td></tr>\n",
                            "<tr><td>KS</td><td>430319.76</td></tr>\n",
                            "<tr><td>WV</td><td>436695.57</td></tr>\n",
                            "<tr><td>DE</td><td>438521.79</td></tr>\n",
                            "<tr><td>RI</td><td>439401.58</td></tr>\n",
                            "<tr><td>LA</td><td>442995.02</td></tr>\n",
                            "<tr><td>KY</td><td>452586.28</td></tr>\n",
                            "<tr><td>OH</td><td>456179.36</td></tr>\n",
                            "<tr><td>WA</td><td>458163.23</td></tr>\n",
                            "<tr><td>AZ</td><td>462217.11</td></tr>\n",
                            "<tr><td>SC</td><td>472147.41</td></tr>\n",
                            "<tr><td>ME</td><td>478070.97</td></tr>\n",
                            "<tr><td>UT</td><td>501628.64</td></tr>\n",
                            "</table>"
                        ]
                    },
                    "execution_count": 134,
                    "metadata": {},
                    "output_type": "execute_result"
                }
            ],
            "source": [
                "SELECT s.state, \n",
                "       SUM(o.order_tot) AS total_sales\n",
                "       -- , COUNT(*) AS total_num_orders\n",
                "FROM dsci_504.orders as o\n",
                "JOIN dsci_504.customers as c ON o.cus_id = c.cus_id\n",
                "JOIN dsci_504.states as s ON c.cus_state = s.state_id\n",
                "GROUP BY s.state\n",
                "ORDER BY total_sales;"
            ]
        },
        {
            "attachments": {},
            "cell_type": "markdown",
            "metadata": {
                "azdata_cell_guid": "e73ee098-badb-4487-96c7-41d0cb69560c"
            },
            "source": [
                "### **Sales Based on Month (What mountain bikes sell the most based on Month?)**\n",
                "\n",
                "### \n",
                "\n",
                "<span data-preserver-spaces=\"true\" style=\"background: transparent; margin-top: 0pt; margin-bottom: 0pt;\">Oct. (Month 10) has the most total sales of 1145254.86, and Feb. (Month 2) has the lowest sales of 923252.04.</span>\n",
                "\n",
                "- <span data-preserver-spaces=\"true\" style=\"background: transparent; margin-top: 0pt; margin-bottom: 0pt;\">Peak performing months are 10, 3, 6, 7, and 4</span>\n",
                "- <span data-preserver-spaces=\"true\" style=\"background: transparent; margin-top: 0pt; margin-bottom: 0pt;\">Slow-performing months are 2, 8, and 12</span>\n",
                "\n",
                "<span data-preserver-spaces=\"true\" style=\"background: transparent; margin-top: 0pt; margin-bottom: 0pt;\">OPC needs to boost marking (sales) in the slow months and ensure revenue is stable year-round.</span>\n",
                "\n",
                "<span data-preserver-spaces=\"true\" style=\"background: transparent; margin-top: 0pt; margin-bottom: 0pt;\">Then, for peak months, ensure that products are well stocked and ready for orders.</span>\n",
                "\n",
                "<span data-preserver-spaces=\"true\" style=\"background: transparent; margin-top: 0pt; margin-bottom: 0pt;\">An idea for OPC is trying seasonal discounts, similar to big box stores, to ensure a higher drive in sales during slow-down periods.</span>"
            ]
        },
        {
            "cell_type": "code",
            "execution_count": 148,
            "metadata": {
                "azdata_cell_guid": "e49bfadf-3fc9-43a6-be71-9d121ab7ef95",
                "language": "sql"
            },
            "outputs": [
                {
                    "data": {
                        "text/html": [
                            "(12 row(s) affected)"
                        ]
                    },
                    "metadata": {},
                    "output_type": "display_data"
                },
                {
                    "data": {
                        "text/html": [
                            "Total execution time: 00:00:00.002"
                        ]
                    },
                    "metadata": {},
                    "output_type": "display_data"
                },
                {
                    "data": {
                        "application/vnd.dataresource+json": {
                            "data": [
                                {
                                    "month_sales": "10",
                                    "total_sales": "1145254.86"
                                },
                                {
                                    "month_sales": "3",
                                    "total_sales": "1105015.88"
                                },
                                {
                                    "month_sales": "6",
                                    "total_sales": "1086060.52"
                                },
                                {
                                    "month_sales": "7",
                                    "total_sales": "1085092.62"
                                },
                                {
                                    "month_sales": "4",
                                    "total_sales": "1081439.81"
                                },
                                {
                                    "month_sales": "11",
                                    "total_sales": "1046738.37"
                                },
                                {
                                    "month_sales": "1",
                                    "total_sales": "1030343.61"
                                },
                                {
                                    "month_sales": "9",
                                    "total_sales": "1025704.38"
                                },
                                {
                                    "month_sales": "5",
                                    "total_sales": "1008888.18"
                                },
                                {
                                    "month_sales": "12",
                                    "total_sales": "988527.24"
                                },
                                {
                                    "month_sales": "8",
                                    "total_sales": "978308.37"
                                },
                                {
                                    "month_sales": "2",
                                    "total_sales": "923252.04"
                                }
                            ],
                            "schema": {
                                "fields": [
                                    {
                                        "name": "month_sales"
                                    },
                                    {
                                        "name": "total_sales"
                                    }
                                ]
                            }
                        },
                        "text/html": [
                            "<table>\n",
                            "<tr><th>month_sales</th><th>total_sales</th></tr>\n",
                            "<tr><td>10</td><td>1145254.86</td></tr>\n",
                            "<tr><td>3</td><td>1105015.88</td></tr>\n",
                            "<tr><td>6</td><td>1086060.52</td></tr>\n",
                            "<tr><td>7</td><td>1085092.62</td></tr>\n",
                            "<tr><td>4</td><td>1081439.81</td></tr>\n",
                            "<tr><td>11</td><td>1046738.37</td></tr>\n",
                            "<tr><td>1</td><td>1030343.61</td></tr>\n",
                            "<tr><td>9</td><td>1025704.38</td></tr>\n",
                            "<tr><td>5</td><td>1008888.18</td></tr>\n",
                            "<tr><td>12</td><td>988527.24</td></tr>\n",
                            "<tr><td>8</td><td>978308.37</td></tr>\n",
                            "<tr><td>2</td><td>923252.04</td></tr>\n",
                            "</table>"
                        ]
                    },
                    "execution_count": 148,
                    "metadata": {},
                    "output_type": "execute_result"
                }
            ],
            "source": [
                "SELECT extract(month from o.ord_date) AS month_sales, \n",
                "       SUM(o.order_tot) AS total_sales\n",
                "       --, COUNT(*) AS total_orders\n",
                "FROM dsci_504.orders o \n",
                "JOIN dsci_504.products p ON o.prod_id = p.prod_id\n",
                "GROUP BY month_sales\n",
                "ORDER BY total_sales DESC;"
            ]
        },
        {
            "attachments": {},
            "cell_type": "markdown",
            "metadata": {
                "azdata_cell_guid": "4a15ed99-5dba-4623-8f66-6ef4beac6142"
            },
            "source": [
                "### **Seasonal Sales for Mountain Bikes**\n",
                "\n",
                "### \n",
                "\n",
                "<span data-preserver-spaces=\"true\" style=\"background: transparent; margin-top: 0pt; margin-bottom: 0pt;\">Are sales steady or seasonal?</span>\n",
                "\n",
                "<span data-preserver-spaces=\"true\" style=\"background: transparent; margin-top: 0pt; margin-bottom: 0pt;\">The sales are seasonal; in Autumn(Fall) and Spring are the peak season sales, and in Winter, there are lower sales.</span>\n",
                "\n",
                "<span data-preserver-spaces=\"true\" style=\"background: transparent; margin-top: 0pt; margin-bottom: 0pt;\">In the Winter, the slower sales may be due to the:</span>\n",
                "\n",
                "- <span data-preserver-spaces=\"true\" style=\"background: transparent; margin-top: 0pt; margin-bottom: 0pt;\">Colder weather</span>\n",
                "- <span data-preserver-spaces=\"true\" style=\"background: transparent; margin-top: 0pt; margin-bottom: 0pt;\">There is less demand because people don't go outside</span>"
            ]
        },
        {
            "cell_type": "code",
            "execution_count": 151,
            "metadata": {
                "azdata_cell_guid": "c119e0f4-cd7f-4213-90a8-f4a0b9944786",
                "language": "sql"
            },
            "outputs": [
                {
                    "data": {
                        "text/html": [
                            "(4 row(s) affected)"
                        ]
                    },
                    "metadata": {},
                    "output_type": "display_data"
                },
                {
                    "data": {
                        "text/html": [
                            "Total execution time: 00:00:00.007"
                        ]
                    },
                    "metadata": {},
                    "output_type": "display_data"
                },
                {
                    "data": {
                        "application/vnd.dataresource+json": {
                            "data": [
                                {
                                    "season": "Autumn(Fall)",
                                    "total_sales": "3217697.61"
                                },
                                {
                                    "season": "Spring",
                                    "total_sales": "3195343.87"
                                },
                                {
                                    "season": "Summer",
                                    "total_sales": "3149461.51"
                                },
                                {
                                    "season": "Winter",
                                    "total_sales": "2942122.89"
                                }
                            ],
                            "schema": {
                                "fields": [
                                    {
                                        "name": "total_sales"
                                    },
                                    {
                                        "name": "season"
                                    }
                                ]
                            }
                        },
                        "text/html": [
                            "<table>\n",
                            "<tr><th>total_sales</th><th>season</th></tr>\n",
                            "<tr><td>3217697.61</td><td>Autumn(Fall)</td></tr>\n",
                            "<tr><td>3195343.87</td><td>Spring</td></tr>\n",
                            "<tr><td>3149461.51</td><td>Summer</td></tr>\n",
                            "<tr><td>2942122.89</td><td>Winter</td></tr>\n",
                            "</table>"
                        ]
                    },
                    "execution_count": 151,
                    "metadata": {},
                    "output_type": "execute_result"
                }
            ],
            "source": [
                "-- Winter: Dec.(12), Jan.(1), Feb.(2)\n",
                "-- Spring: Mar.(3), April.(4), May (5)\n",
                "-- Summer: June(6), July(7), Aug.(8)\n",
                "-- Autumn(Fall): Sep.(9) Oct.(10) Nov.(11)\n",
                "\n",
                "SELECT SUM(o.order_tot) AS total_sales,\n",
                "       --COUNT(*) AS total_orders,\n",
                "       CASE\n",
                "            WHEN extract(month from o.ord_date) IN (12, 1, 2) THEN 'Winter'\n",
                "            WHEN extract(month from o.ord_date) IN (3, 4, 5) THEN 'Spring'\n",
                "            WHEN extract(month from o.ord_date) IN (6, 7, 8) THEN 'Summer'\n",
                "            WHEN extract(month from o.ord_date) IN (9, 10, 11) THEN 'Autumn(Fall)'\n",
                "            ELSE 'Unknown'\n",
                "      END AS season\n",
                "FROM dsci_504.orders o \n",
                "JOIN dsci_504.products p ON o.prod_id = p.prod_id\n",
                "GROUP BY season\n",
                "ORDER BY total_sales DESC;"
            ]
        },
        {
            "attachments": {},
            "cell_type": "markdown",
            "metadata": {
                "azdata_cell_guid": "0fca96ba-54d0-42dc-a930-53b25bd973d3"
            },
            "source": [
                "### <span style=\"color: var(--vscode-foreground);\"><b>2A. Does OPC have adequate sales to support continued growth in the mountain bike segment?&nbsp;</b></span> \n",
                "\n",
                "<span style=\"color: var(--vscode-foreground);\"><b>NO</b></span>\n",
                "\n",
                "The current data on OPC sales does **not support continued growth in mountain bikes**. Sales do not sustain long-term growth.\n",
                "\n",
                "The yearly sales for mountain bikes are stagnant; they are not growing but decreasing overall. There are some slight peaks of growth, but not substantially. Each year, mountain bike sales continue to grow; overall, there is no increase in demand for mountain bikes. This is the same as the number of total orders based on years; they have a similar result, indicating decreasing overall orders for mountain bikes over the years.\n",
                "\n",
                "There are also a limited number of mountain bike products that are selling the best. Overall, the product trend is declining in sales from Rail to Chameleon. \n",
                "\n",
                "Then, for customers buying mountain bikes, there are limited, repeating purchases occurring, suggesting there is not a strong repeat in business, which will be a challenge for long-term growth.\n",
                "\n",
                "Then, when looking at individual states to determine which state sells the most mountain bikes, we see that Utah sells the most. At the same time, IA, AL, CA, TN, NC, and FL have the lowest sales, which means there’s an untapped potential for these areas, especially California, and Florida can be read major hubs for distribution if needed, but that will only happen if OPC can increase its overall market share in these states.\n",
                "\n",
                "Finally, we’re looking at both monthly and seasonal orders. We see that the peak performance exists for October, March, and June but has low performance in February, August, and December. Then, relating to seasonal sales, they are not steady year-round, which is to be expected but can have devastating results if not appropriately controlled. The autumn and spring seasons perform the best, while winter has lower sales.\n",
                "\n",
                "The overall conclusion I am finding is that continued growth for mountain bikes is troubling. The data shows warning signs that the growth of mountain bikes is not what I expected. Especially in limited, repeat buyers, stagnant and declining sales trends are not a good sign for continued growth formatting bikes. For OPC to continue its growth, it must focus on the lack of year-to-year, overall growth, the seasonal fluctuations, and especially the low repeating of purchases from customers. OPC must implement initiatives that strategize on these critical decreases in growth to ensure adequate sales growth is possible in the future. Deeper forecasting will be required to save the mountain bike sales and continued overall growth."
            ]
        },
        {
            "attachments": {},
            "cell_type": "markdown",
            "metadata": {
                "azdata_cell_guid": "85cafdc5-1960-4ecb-a61f-115d336d7cad"
            },
            "source": [
                "\\-----------------------------------------------------------------------------------------------------------------------------------------------------------------------------------\\_\\_\\_\\_\\_\\_\\_\\_\\_\\_\\_\\_\\_\\_\\_\\_\\_\\_\\_\\_\\_\\_\\_\\_\\_\\_\\_\\_\\_\\_\\_\\_\\_\\_\\_\\_\\_\\_\\_\\_\\_\\_\\_\\_\\_\\_\\_\\_\\_\\_\\_\\_\\_\\_\\_\\_\\_\\_\\_\\_\\_\\_\\_\\_\\_\\_\\_\\_\\_\\_\\_\\_\\_\\_\\_\\_\\_\\_\\_\\_\\_\\_\\_\\_\\_\\_\\_\\_\\_\\_\\_\\_\\_\\_\\_\\_\\_\\_\\_\\_\\_\\_\\_\\_\\_\\_\\_\\_\\_\\_\\_\\_\\_\\_\\_\\_\\_\\_\\_\\_\\_\\_\\_\\_\\_\\_\\_\\_\\_\\_\\_\\_\\_\\_\\_\\_\\_\\_\\_\\_\\_\\_\\_\\_\\_\\_\\_\\_\\_\\_\\_\\_\\_\\_\\_\\_\\_\\_\\_\\_\\_\\_\\_\\_\\_\\_\\_\\_\\_\\_\\_\\_\\_"
            ]
        },
        {
            "attachments": {},
            "cell_type": "markdown",
            "metadata": {
                "azdata_cell_guid": "d9003c8c-2c2f-4c51-83fc-440ac12f6744"
            },
            "source": [
                "## **2B**"
            ]
        },
        {
            "attachments": {},
            "cell_type": "markdown",
            "metadata": {
                "azdata_cell_guid": "f565b00c-03c7-444d-b03b-574f46c9a7c5"
            },
            "source": [
                "### **How are the Current Warehouses Utilized**\n",
                "\n",
                "### \n",
                "\n",
                "<span data-preserver-spaces=\"true\" style=\"background: transparent; margin-top: 0pt; margin-bottom: 0pt;\">Without knowing the maximum capacity for each warehouse, I will assume that each warehouse, based on the current number of orders, has a maximum capacity of 1,000. Also, because sales are decreasing, the warehouses will have more products than </span> <span data-preserver-spaces=\"true\" style=\"background: transparent; margin-top: 0pt; margin-bottom: 0pt;\">normal</span><span data-preserver-spaces=\"true\" style=\"background: transparent; margin-top: 0pt; margin-bottom: 0pt;\">.</span>\n",
                "\n",
                "<span data-preserver-spaces=\"true\" style=\"background: transparent; margin-top: 0pt; margin-bottom: 0pt;\">Based on the max capacity being 1,000 and the total number of orders being between 850 and 900, the warehouses </span> <span data-preserver-spaces=\"true\" style=\"background: transparent; margin-top: 0pt; margin-bottom: 0pt;\">are highly utilized</span><span data-preserver-spaces=\"true\" style=\"background: transparent; margin-top: 0pt; margin-bottom: 0pt;\">, meaning that if</span> <span data-preserver-spaces=\"true\" style=\"background: transparent; margin-top: 0pt; margin-bottom: 0pt;\"> OPC acquires Ord Cyles, they will need an increased number of warehouses to meet demand.</span>\n",
                "\n",
                "<span data-preserver-spaces=\"true\" style=\"background: transparent; margin-top: 0pt; margin-bottom: 0pt;\">Are the warehouses near full capacity?</span>        \n",
                "\n",
                "<span data-preserver-spaces=\"true\" style=\"background: transparent; margin-top: 0pt; margin-bottom: 0pt;\">Yes, the warehouses are near capacity. With the max capacity of 1,000&nbsp;and the utilization of warehouses near 85 to 90%, the warehouse is </span> <span data-preserver-spaces=\"true\" style=\"background: transparent; margin-top: 0pt; margin-bottom: 0pt;\">being used</span> <span data-preserver-spaces=\"true\" style=\"background: transparent; margin-top: 0pt; margin-bottom: 0pt;\"> more than expected. According to this article, the warehouses should only use 20% of their space. Ideally, the range should be between 22% and 27%.&nbsp;</span> \n",
                "\n",
                "<span data-preserver-spaces=\"true\" style=\"background: transparent; margin-top: 0pt; margin-bottom: 0pt;\">Near high capacity, need more room!</span>\n",
                "\n",
                "[https://www.camcode.com/blog/how-to-calculate-warehouse-space-utilization/#:~:text=In%20truth%2C%20many%20warehouses%20only,Total%20Size%20of%20Your%20Warehouse](https://www.camcode.com/blog/how-to-calculate-warehouse-space-utilization#:~:text=In%20truth%2C%20many%20warehouses%20only,Total%20Size%20of%20Your%20Warehouse) \n",
                "\n",
                "<span data-preserver-spaces=\"true\" style=\"background: transparent; margin-top: 0pt; margin-bottom: 0pt;\">Which warehouse has most of the orders and revenue?</span>\n",
                "\n",
                "<span data-preserver-spaces=\"true\" style=\"background: transparent; margin-top: 0pt; margin-bottom: 0pt;\">The warehouse&nbsp;in Sacramento has the most orders, 884, and a revenue&nbsp;of 4,264,752.20.</span>"
            ]
        },
        {
            "cell_type": "code",
            "execution_count": 233,
            "metadata": {
                "azdata_cell_guid": "0eeff9e8-dc60-411c-bd4c-22d2b76f4f77",
                "language": "sql"
            },
            "outputs": [
                {
                    "data": {
                        "text/html": [
                            "(3 row(s) affected)"
                        ]
                    },
                    "metadata": {},
                    "output_type": "display_data"
                },
                {
                    "data": {
                        "text/html": [
                            "Total execution time: 00:00:00.013"
                        ]
                    },
                    "metadata": {},
                    "output_type": "display_data"
                },
                {
                    "data": {
                        "application/vnd.dataresource+json": {
                            "data": [
                                {
                                    "Utilization(%)": "88",
                                    "total_num_orders": "884",
                                    "total_revenue": "4264752.20",
                                    "warehouse_name": "Sacramento"
                                },
                                {
                                    "Utilization(%)": "85",
                                    "total_num_orders": "859",
                                    "total_revenue": "4152265.76",
                                    "warehouse_name": "Dallas"
                                },
                                {
                                    "Utilization(%)": "85",
                                    "total_num_orders": "856",
                                    "total_revenue": "4087607.92",
                                    "warehouse_name": "Columbus"
                                }
                            ],
                            "schema": {
                                "fields": [
                                    {
                                        "name": "warehouse_name"
                                    },
                                    {
                                        "name": "total_num_orders"
                                    },
                                    {
                                        "name": "total_revenue"
                                    },
                                    {
                                        "name": "Utilization(%)"
                                    }
                                ]
                            }
                        },
                        "text/html": [
                            "<table>\n",
                            "<tr><th>warehouse_name</th><th>total_num_orders</th><th>total_revenue</th><th>Utilization(%)</th></tr>\n",
                            "<tr><td>Sacramento</td><td>884</td><td>4264752.20</td><td>88</td></tr>\n",
                            "<tr><td>Dallas</td><td>859</td><td>4152265.76</td><td>85</td></tr>\n",
                            "<tr><td>Columbus</td><td>856</td><td>4087607.92</td><td>85</td></tr>\n",
                            "</table>"
                        ]
                    },
                    "execution_count": 233,
                    "metadata": {},
                    "output_type": "execute_result"
                }
            ],
            "source": [
                "SELECT w.warehouse_name,\n",
                "       COUNT(o.ord_id) AS total_num_orders, \n",
                "       SUM(o.order_tot) AS total_revenue,                                                           -- capacity = 1,000\n",
                "       (COUNT(o.ord_id) * 100 / 1000) AS \"Utilization(%)\" -- Utilization of Warehouses = (total_num_orders / capacity) * 100\n",
                "FROM dsci_504.orders o\n",
                "JOIN dsci_504.warehouses w ON o.warehouse_id = w.warehouse_id\n",
                "GROUP BY w.warehouse_name\n",
                "ORDER BY total_num_orders DESC;"
            ]
        },
        {
            "attachments": {},
            "cell_type": "markdown",
            "metadata": {
                "azdata_cell_guid": "3d496481-a721-447e-b16b-d6938a80e3bf"
            },
            "source": [
                "### **Warehouse Capacity VS Projected Order Volume**\n",
                "\n",
                "### \n",
                "\n",
                "**The warehouse's max capacity is 1,000 (hypothetical).**\n",
                "\n",
                "<span data-preserver-spaces=\"true\" style=\"background: transparent; margin-top: 0pt; margin-bottom: 0pt;\">Can the current warehouses for OPC handle additional orders if OPC buys Ord Cyles?</span>\n",
                "\n",
                "<span data-preserver-spaces=\"true\" style=\"background: transparent; margin-top: 0pt; margin-bottom: 0pt;\">Based on the growth rate of 10%, the total number of orders will increase by nearly 1,000. </span> <span data-preserver-spaces=\"true\" style=\"background: transparent; margin-top: 0pt; margin-bottom: 0pt;\">This</span> <span data-preserver-spaces=\"true\" style=\"background: transparent; margin-top: 0pt; margin-bottom: 0pt;\"> will cause the current OPC warehouse to be</span> <span data-preserver-spaces=\"true\" style=\"background: transparent; margin-top: 0pt; margin-bottom: 0pt;\">able to handle limited growth for their warehouses. If OPC buys Ord Cyles, they will need more space to handle the project's orders </span> <span data-preserver-spaces=\"true\" style=\"background: transparent; margin-top: 0pt; margin-bottom: 0pt;\">to not exceed the warehouse limits</span><span data-preserver-spaces=\"true\" style=\"background: transparent; margin-top: 0pt; margin-bottom: 0pt;\">.</span>\n",
                "\n",
                "<span data-preserver-spaces=\"true\" style=\"background: transparent; margin-top: 0pt; margin-bottom: 0pt;\">If OPC acquired Ord Cyles, the number of warehouses would need to </span> <span data-preserver-spaces=\"true\" style=\"background: transparent; margin-top: 0pt; margin-bottom: 0pt;\">be increased</span> <span data-preserver-spaces=\"true\" style=\"background: transparent; margin-top: 0pt; margin-bottom: 0pt;\"> to meet demand.</span>"
            ]
        },
        {
            "cell_type": "code",
            "execution_count": 196,
            "metadata": {
                "azdata_cell_guid": "8e3ffcdc-865e-4a4d-a703-035af442ab9b",
                "language": "sql"
            },
            "outputs": [
                {
                    "data": {
                        "text/html": [
                            "(3 row(s) affected)"
                        ]
                    },
                    "metadata": {},
                    "output_type": "display_data"
                },
                {
                    "data": {
                        "text/html": [
                            "Total execution time: 00:00:00.012"
                        ]
                    },
                    "metadata": {},
                    "output_type": "display_data"
                },
                {
                    "data": {
                        "application/vnd.dataresource+json": {
                            "data": [
                                {
                                    "projected_total_orders": "972.40",
                                    "total_num_orders": "884",
                                    "warehouse_name": "Sacramento"
                                },
                                {
                                    "projected_total_orders": "944.90",
                                    "total_num_orders": "859",
                                    "warehouse_name": "Dallas"
                                },
                                {
                                    "projected_total_orders": "941.60",
                                    "total_num_orders": "856",
                                    "warehouse_name": "Columbus"
                                }
                            ],
                            "schema": {
                                "fields": [
                                    {
                                        "name": "warehouse_name"
                                    },
                                    {
                                        "name": "total_num_orders"
                                    },
                                    {
                                        "name": "projected_total_orders"
                                    }
                                ]
                            }
                        },
                        "text/html": [
                            "<table>\n",
                            "<tr><th>warehouse_name</th><th>total_num_orders</th><th>projected_total_orders</th></tr>\n",
                            "<tr><td>Sacramento</td><td>884</td><td>972.40</td></tr>\n",
                            "<tr><td>Dallas</td><td>859</td><td>944.90</td></tr>\n",
                            "<tr><td>Columbus</td><td>856</td><td>941.60</td></tr>\n",
                            "</table>"
                        ]
                    },
                    "execution_count": 196,
                    "metadata": {},
                    "output_type": "execute_result"
                }
            ],
            "source": [
                "SELECT w.warehouse_name, \n",
                "       COUNT(o.ord_id) AS total_num_orders,                                                          -- Growth Rate= 0.10 (10%)\n",
                "       (COUNT(o.ord_id) * (1 + 0.10)) AS projected_total_orders -- Projected Volume = Previous Period Volume * (1 + Growth Rate)\n",
                "FROM dsci_504.orders o -- you don't have to use AS for setting orders AS o\n",
                "JOIN dsci_504.warehouses w ON o.warehouse_id = w.warehouse_id\n",
                "GROUP BY w.warehouse_name\n",
                "ORDER BY projected_total_orders DESC;"
            ]
        },
        {
            "attachments": {},
            "cell_type": "markdown",
            "metadata": {
                "azdata_cell_guid": "3e951719-60cd-496a-8c7a-1946090b66e1",
                "language": "sql"
            },
            "source": [
                "### **Shipping Times for Warehouse Efficiency**\n",
                "\n",
                "### \n",
                "\n",
                "<span data-preserver-spaces=\"true\" style=\"background: transparent; margin-top: 0pt; margin-bottom: 0pt;\">On average, the shipping time in days is good. Each warehouse has an average shipping time of 5 days, which aligns with the standard delivery time of 3 to 5 business days.</span>"
            ]
        },
        {
            "cell_type": "code",
            "execution_count": 231,
            "metadata": {
                "azdata_cell_guid": "1fc035da-cfa2-46bb-98e3-aea2ac11f927",
                "language": "sql"
            },
            "outputs": [
                {
                    "data": {
                        "text/html": [
                            "(3 row(s) affected)"
                        ]
                    },
                    "metadata": {},
                    "output_type": "display_data"
                },
                {
                    "data": {
                        "text/html": [
                            "Total execution time: 00:00:00.011"
                        ]
                    },
                    "metadata": {},
                    "output_type": "display_data"
                },
                {
                    "data": {
                        "application/vnd.dataresource+json": {
                            "data": [
                                {
                                    "avg_shipping_days": "4.9",
                                    "warehouse_name": "Columbus"
                                },
                                {
                                    "avg_shipping_days": "5.0",
                                    "warehouse_name": "Dallas"
                                },
                                {
                                    "avg_shipping_days": "5.1",
                                    "warehouse_name": "Sacramento"
                                }
                            ],
                            "schema": {
                                "fields": [
                                    {
                                        "name": "warehouse_name"
                                    },
                                    {
                                        "name": "avg_shipping_days"
                                    }
                                ]
                            }
                        },
                        "text/html": [
                            "<table>\n",
                            "<tr><th>warehouse_name</th><th>avg_shipping_days</th></tr>\n",
                            "<tr><td>Columbus</td><td>4.9</td></tr>\n",
                            "<tr><td>Dallas</td><td>5.0</td></tr>\n",
                            "<tr><td>Sacramento</td><td>5.1</td></tr>\n",
                            "</table>"
                        ]
                    },
                    "execution_count": 231,
                    "metadata": {},
                    "output_type": "execute_result"
                }
            ],
            "source": [
                "--SELECT * FROM dsci_504.orders limit 1;\n",
                "\n",
                "SELECT w.warehouse_name, \n",
                "       ROUND(AVG(ord_ship_date - ord_date), 1) AS avg_shipping_days\n",
                "FROM dsci_504.orders\n",
                "JOIN dsci_504.warehouses w ON orders.warehouse_id = w.warehouse_id\n",
                "GROUP BY w.warehouse_name\n",
                "ORDER BY avg_shipping_days ASC;"
            ]
        },
        {
            "attachments": {},
            "cell_type": "markdown",
            "metadata": {
                "azdata_cell_guid": "36dbe2f4-bc79-4b8d-9b77-51da5b25c74e"
            },
            "source": [
                "### <span style=\"color: var(--vscode-foreground);\"><b>2B. Will the acquisition of Ord Cycles require OPC to increase its number of warehouses to meet demand?</b></span>\n",
                "\n",
                "**YES**\n",
                "\n",
                "For OPC to acquire ORD cycles, it must increase the number of warehouses to meet demand. Since no maximum capacity was listed for each warehouse, the maximum capacity will be 1,000. This capacity limit is based on the total orders for each of the warehouses being between 850 and 900, and in the previous question relating to sales, we see how there's a decreasing amount of sales that are occurring, which will cause the warehouse's inventory to be greater than normal. \n",
                "\n",
                "The current warehouse utilization is around 85% to 90%, which means the warehouses are used more than expected. Ideally, a warehouse should have a utilization range of 22% to 27%. Since utilization is above the ideal range in these particular warehouses, more capacity is needed if OPC acquires ORD Cycles.\n",
                "\n",
                "<span style=\"color: var(--vscode-foreground);\">Suppose the projection of order growth is 10%. In that case, it will cause the warehouses to reach near the thousand order limit for a given warehouse and require more space to facilitate additional demand. The growth rate of 10% will put a strain on the warehouse capacity.</span>\n",
                "\n",
                "If the warehouse is not increased for this new acquisition, it could cause bottlenecks, shipping delays, and potential inventory overflow, which can cause frustrating results for the customer and lead to additional decreases in sales. That is why it is essential to maintain an additional warehouse to meet growing demand if OPC acquires ORD Cycles.\n",
                "\n",
                "The current shipping time for a product is around five days, which falls within the standard delivery of 3 to 5 business days from when the product was ordered to when it was shipped out. On average, the shipping is around five days. To avoid logistical constraints and to maintain this average of shipping days accordingly, OPC will need to build new warehouses and have additional space to optimize new orders and storage successfully.\n",
                "\n",
                "Warehouse expansion is required to acquire ORD Cycles. It will support the expected increase in demand, which will cause more warehouse space to facilitate the acquisition effectively and optimize all ORD cycle resources properly for OPC to facilitate the increased growth potential needed in the acquisition."
            ]
        },
        {
            "attachments": {},
            "cell_type": "markdown",
            "metadata": {
                "azdata_cell_guid": "a4a2f379-0fd1-4501-934c-adfee64c0715"
            },
            "source": [
                "\\-----------------------------------------------------------------------------------------------------------------------------------------------------------------------------------\\_\\_\\_\\_\\_\\_\\_\\_\\_\\_\\_\\_\\_\\_\\_\\_\\_\\_\\_\\_\\_\\_\\_\\_\\_\\_\\_\\_\\_\\_\\_\\_\\_\\_\\_\\_\\_\\_\\_\\_\\_\\_\\_\\_\\_\\_\\_\\_\\_\\_\\_\\_\\_\\_\\_\\_\\_\\_\\_\\_\\_\\_\\_\\_\\_\\_\\_\\_\\_\\_\\_\\_\\_\\_\\_\\_\\_\\_\\_\\_\\_\\_\\_\\_\\_\\_\\_\\_\\_\\_\\_\\_\\_\\_\\_\\_\\_\\_\\_\\_\\_\\_\\_\\_\\_\\_\\_\\_\\_\\_\\_\\_\\_\\_\\_\\_\\_\\_\\_\\_\\_\\_\\_\\_\\_\\_\\_\\_\\_\\_\\_\\_\\_\\_\\_\\_\\_\\_\\_\\_\\_\\_\\_\\_\\_\\_\\_\\_\\_\\_\\_\\_\\_\\_\\_\\_\\_\\_\\_\\_\\_\\_\\_\\_\\_\\_\\_\\_\\_\\_\\_\\_\\_"
            ]
        },
        {
            "attachments": {},
            "cell_type": "markdown",
            "metadata": {
                "azdata_cell_guid": "d12192d1-fcda-4629-af6d-60ad419eb092"
            },
            "source": [
                "## **2C**"
            ]
        },
        {
            "attachments": {},
            "cell_type": "markdown",
            "metadata": {
                "azdata_cell_guid": "40baf5d3-1de5-4596-b10e-de597bf39fc5"
            },
            "source": [
                "### **Which Mountain Bike Builds Are Most Common**\n",
                "\n",
                "### \n",
                "\n",
                "**Top-selling mountain bikes**\n",
                "\n",
                "<span data-preserver-spaces=\"true\" style=\"background: transparent; margin-top: 0pt; margin-bottom: 0pt;\">The five most popular mountain bike builds are:</span>\n",
                "\n",
                "1. <span data-preserver-spaces=\"true\" style=\"background: transparent; margin-top: 0pt; margin-bottom: 0pt;\">black hole</span>\n",
                "2. <span data-preserver-spaces=\"true\" style=\"background: transparent; margin-top: 0pt; margin-bottom: 0pt;\">adventure trek</span>\n",
                "3. <span data-preserver-spaces=\"true\" style=\"background: transparent; margin-top: 0pt; margin-bottom: 0pt;\">trail guide</span>\n",
                "4. <span data-preserver-spaces=\"true\" style=\"background: transparent; margin-top: 0pt; margin-bottom: 0pt;\">airtime</span>\n",
                "5. <span data-preserver-spaces=\"true\" style=\"background: transparent; margin-top: 0pt; margin-bottom: 0pt;\">strikeforce</span>\n",
                "\n",
                "<span data-preserver-spaces=\"true\" style=\"background: transparent; margin-top: 0pt; margin-bottom: 0pt;\">Each bike build ranges in price on average from 4,000 to 6,000, and the number of orders </span> <span data-preserver-spaces=\"true\" style=\"background: transparent; margin-top: 0pt; margin-bottom: 0pt;\">ranges</span> <span data-preserver-spaces=\"true\" style=\"background: transparent; margin-top: 0pt; margin-bottom: 0pt;\"> from 50 to 80, which means these are very popular and require more resources to increase builds.&nbsp;</span> \n",
                "\n",
                "<span data-preserver-spaces=\"true\" style=\"background: transparent; margin-top: 0pt; margin-bottom: 0pt;\">By having ORD Cyles focus on the most popular builds, they can meet the market demand, increasing their profitability.</span>\n",
                "\n",
                "<span data-preserver-spaces=\"true\" style=\"background: transparent; margin-top: 0pt; margin-bottom: 0pt;\">These are the mountain bike builds that ORD Cycles should build for OPC.</span>"
            ]
        },
        {
            "cell_type": "code",
            "execution_count": 253,
            "metadata": {
                "azdata_cell_guid": "6e4cafcb-272b-4a39-843d-59959119265a",
                "language": "sql"
            },
            "outputs": [
                {
                    "data": {
                        "text/html": [
                            "(5 row(s) affected)"
                        ]
                    },
                    "metadata": {},
                    "output_type": "display_data"
                },
                {
                    "data": {
                        "text/html": [
                            "Total execution time: 00:00:00.006"
                        ]
                    },
                    "metadata": {},
                    "output_type": "display_data"
                },
                {
                    "data": {
                        "application/vnd.dataresource+json": {
                            "data": [
                                {
                                    "avg_price": "3999.00",
                                    "build_name": "black hole",
                                    "total_num_orders": "76"
                                },
                                {
                                    "avg_price": "4554.45",
                                    "build_name": "adventure trek",
                                    "total_num_orders": "74"
                                },
                                {
                                    "avg_price": "5655.00",
                                    "build_name": "trail guide",
                                    "total_num_orders": "60"
                                },
                                {
                                    "avg_price": "5899.00",
                                    "build_name": "airtime",
                                    "total_num_orders": "51"
                                },
                                {
                                    "avg_price": "3999.00",
                                    "build_name": "strikeforce",
                                    "total_num_orders": "50"
                                }
                            ],
                            "schema": {
                                "fields": [
                                    {
                                        "name": "build_name"
                                    },
                                    {
                                        "name": "total_num_orders"
                                    },
                                    {
                                        "name": "avg_price"
                                    }
                                ]
                            }
                        },
                        "text/html": [
                            "<table>\n",
                            "<tr><th>build_name</th><th>total_num_orders</th><th>avg_price</th></tr>\n",
                            "<tr><td>black hole</td><td>76</td><td>3999.00</td></tr>\n",
                            "<tr><td>adventure trek</td><td>74</td><td>4554.45</td></tr>\n",
                            "<tr><td>trail guide</td><td>60</td><td>5655.00</td></tr>\n",
                            "<tr><td>airtime</td><td>51</td><td>5899.00</td></tr>\n",
                            "<tr><td>strikeforce</td><td>50</td><td>3999.00</td></tr>\n",
                            "</table>"
                        ]
                    },
                    "execution_count": 253,
                    "metadata": {},
                    "output_type": "execute_result"
                }
            ],
            "source": [
                "SELECT b.build_name, \n",
                "       COUNT(o.ord_id) AS total_num_orders, \n",
                "       ROUND(AVG(p.prod_price), 2) AS avg_price\n",
                "FROM dsci_504.orders o\n",
                "JOIN dsci_504.products p ON o.prod_id = p.prod_id\n",
                "JOIN dsci_504.productbuilds pb ON p.prod_id = pb.prod_id\n",
                "JOIN dsci_504.builds b ON pb.build_id = b.build_id\n",
                "GROUP BY b.build_name\n",
                "ORDER BY total_num_orders DESC\n",
                "LIMIT 5;"
            ]
        },
        {
            "attachments": {},
            "cell_type": "markdown",
            "metadata": {
                "azdata_cell_guid": "1ae215e4-6d6c-4eff-8c2d-4eb859e75fc1"
            },
            "source": [
                "### **Price Range for Most Popular Mountain Bike Builds** \n",
                "\n",
                "### \n",
                "\n",
                "<span data-preserver-spaces=\"true\" style=\"background: transparent; margin-top: 0pt; margin-bottom: 0pt;\">Using the same query as before, we see that customers buy mountain bikes in a range from 4,000 to 6,000. Customers prefer not to have </span> <span data-preserver-spaces=\"true\" style=\"background: transparent; margin-top: 0pt; margin-bottom: 0pt;\">very expensive</span> <span data-preserver-spaces=\"true\" style=\"background: transparent; margin-top: 0pt; margin-bottom: 0pt;\"> mountain bike builds; they want a quality product at a </span> <span data-preserver-spaces=\"true\" style=\"background: transparent; margin-top: 0pt; margin-bottom: 0pt;\">good</span> <span data-preserver-spaces=\"true\" style=\"background: transparent; margin-top: 0pt; margin-bottom: 0pt;\"> price.</span>"
            ]
        },
        {
            "cell_type": "code",
            "execution_count": 281,
            "metadata": {
                "azdata_cell_guid": "432775d1-078e-4ff3-98eb-b86236b54c2b",
                "language": "sql"
            },
            "outputs": [
                {
                    "data": {
                        "text/html": [
                            "(5 row(s) affected)"
                        ]
                    },
                    "metadata": {},
                    "output_type": "display_data"
                },
                {
                    "data": {
                        "text/html": [
                            "Total execution time: 00:00:00.006"
                        ]
                    },
                    "metadata": {},
                    "output_type": "display_data"
                },
                {
                    "data": {
                        "application/vnd.dataresource+json": {
                            "data": [
                                {
                                    "avg_price": "3999.00",
                                    "build_name": "black hole",
                                    "total_num_orders": "76"
                                },
                                {
                                    "avg_price": "4554.45",
                                    "build_name": "adventure trek",
                                    "total_num_orders": "74"
                                },
                                {
                                    "avg_price": "5655.00",
                                    "build_name": "trail guide",
                                    "total_num_orders": "60"
                                },
                                {
                                    "avg_price": "5899.00",
                                    "build_name": "airtime",
                                    "total_num_orders": "51"
                                },
                                {
                                    "avg_price": "3999.00",
                                    "build_name": "strikeforce",
                                    "total_num_orders": "50"
                                }
                            ],
                            "schema": {
                                "fields": [
                                    {
                                        "name": "build_name"
                                    },
                                    {
                                        "name": "total_num_orders"
                                    },
                                    {
                                        "name": "avg_price"
                                    }
                                ]
                            }
                        },
                        "text/html": [
                            "<table>\n",
                            "<tr><th>build_name</th><th>total_num_orders</th><th>avg_price</th></tr>\n",
                            "<tr><td>black hole</td><td>76</td><td>3999.00</td></tr>\n",
                            "<tr><td>adventure trek</td><td>74</td><td>4554.45</td></tr>\n",
                            "<tr><td>trail guide</td><td>60</td><td>5655.00</td></tr>\n",
                            "<tr><td>airtime</td><td>51</td><td>5899.00</td></tr>\n",
                            "<tr><td>strikeforce</td><td>50</td><td>3999.00</td></tr>\n",
                            "</table>"
                        ]
                    },
                    "execution_count": 281,
                    "metadata": {},
                    "output_type": "execute_result"
                }
            ],
            "source": [
                "SELECT b.build_name, \n",
                "       COUNT(o.ord_id) AS total_num_orders, \n",
                "       ROUND(AVG(p.prod_price), 2) AS avg_price\n",
                "FROM dsci_504.orders o\n",
                "JOIN dsci_504.products p ON o.prod_id = p.prod_id\n",
                "JOIN dsci_504.productbuilds pb ON p.prod_id = pb.prod_id\n",
                "JOIN dsci_504.builds b ON pb.build_id = b.build_id\n",
                "GROUP BY b.build_name\n",
                "ORDER BY total_num_orders DESC\n",
                "LIMIT 5;"
            ]
        },
        {
            "attachments": {},
            "cell_type": "markdown",
            "metadata": {
                "azdata_cell_guid": "e6becb2c-3692-49b7-987a-4f08dbc1a256"
            },
            "source": [
                "### **2C. <span style=\"color: var(--vscode-foreground);\">What configurations of mountain bikes should OPC require Ord Cycles to build based on available data?</span>**\n",
                "\n",
                "**Based on the data, OPC should require Ord Cycles to build the configurations of:**\n",
                "\n",
                "1. <span data-preserver-spaces=\"true\" style=\"background: transparent; margin-top: 0pt; margin-bottom: 0pt;\">Black Hole</span>\n",
                "2. <span data-preserver-spaces=\"true\" style=\"background: transparent; margin-top: 0pt; margin-bottom: 0pt;\">Adventure Tek</span>\n",
                "3. <span data-preserver-spaces=\"true\" style=\"background: transparent; margin-top: 0pt; margin-bottom: 0pt;\">Trail Guide</span>\n",
                "4. <span data-preserver-spaces=\"true\" style=\"background: transparent; margin-top: 0pt; margin-bottom: 0pt;\">Airtime</span>\n",
                "5. <span data-preserver-spaces=\"true\" style=\"background: transparent; margin-top: 0pt; margin-bottom: 0pt;\">Strikeforce</span>\n",
                "\n",
                "<span data-preserver-spaces=\"true\" style=\"background: transparent; margin-top: 0pt; margin-bottom: 0pt;\">These five mountain bike builds are the most popular and have the most orders. The price range for these bikes is between&nbsp;4,000 and 6,000, which customers prefer.</span>\n",
                "\n",
                "<span data-preserver-spaces=\"true\" style=\"background: transparent; margin-top: 0pt; margin-bottom: 0pt;\">Since these&nbsp;mountain bike builds are the most popular, they will require more resources to be allocated to meet higher production capacity. OPC should ensure ORD Cycles has the resources to meet the demand. ORD Cycles needs to have a supply chain to meet demand. The buyers want a quality build at a great price, so maintaining features will keep costs manageable.</span>"
            ]
        },
        {
            "attachments": {},
            "cell_type": "markdown",
            "metadata": {
                "azdata_cell_guid": "de3f0342-6f12-43d7-b1b8-47983e331319"
            },
            "source": [
                "### **2D.** **Based on all these questions answered and queries** **created, should Ord Cycles be acquired?**\n",
                "\n",
                "### \n",
                "\n",
                "**YES**\n",
                "\n",
                "<span data-preserver-spaces=\"true\" style=\"background: transparent; margin-top: 0pt; margin-bottom: 0pt;\">OPC should acquire ORD cycles, but additional work needs to </span> <span data-preserver-spaces=\"true\" style=\"background: transparent; margin-top: 0pt; margin-bottom: 0pt;\">be evaluated</span> <span data-preserver-spaces=\"true\" style=\"background: transparent; margin-top: 0pt; margin-bottom: 0pt;\"> for the acquisition to succeed in the long term. The key areas to focus on are our warehouse expansion, increasing sales across areas that have decreased in recent months, and prioritizing customer retention to provide a </span> <span data-preserver-spaces=\"true\" style=\"background: transparent; margin-top: 0pt; margin-bottom: 0pt;\">wider</span> <span data-preserver-spaces=\"true\" style=\"background: transparent; margin-top: 0pt; margin-bottom: 0pt;\"> scope into how OPC can increase customers overall with the acquisition of ORD cycles. The key is to keep customers satisfied and ensure long-term success.</span>"
            ]
        }
    ],
    "metadata": {
        "kernelspec": {
            "display_name": "SQL",
            "language": "sql",
            "name": "SQL"
        },
        "language_info": {
            "name": "sql",
            "version": ""
        }
    },
    "nbformat": 4,
    "nbformat_minor": 2
}
